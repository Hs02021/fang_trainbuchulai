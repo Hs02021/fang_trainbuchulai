{
 "cells": [
  {
   "cell_type": "markdown",
   "id": "b3375e63",
   "metadata": {},
   "source": [
    "# Random Forest with Grid Search Cross Validation"
   ]
  },
  {
   "attachments": {
    "image.png": {
     "image/png": "[encoded data removed]"
    }
   },
   "cell_type": "markdown",
   "id": "55b0b251",
   "metadata": {},
   "source": [
    "Dataset：https://www.kaggle.com/datasets/shrutipandit707/heartdisease\n",
    "\n",
    "Algorithm: Random Forest\n",
    "\n",
    "Hyperparameter tuning: Grid Search cross validation\n",
    "\n",
    "==========\n",
    "\n",
    "Final result:\n",
    "![image.png](attachment:image.png)\n",
    "\n",
    "Optimal Hyperparameters:\n",
    "\n",
    "RandomForestClassifier(max_depth=5, max_features=4, min_samples_leaf=10,\n",
    "                       n_estimators=10, oob_score=True, random_state=42)\n",
    "                       \n",
    "                       \n",
    "==========             \n",
    "\n",
    "Note: \n",
    "【About RF with this dataset】\n",
    "Properly not the best fit\n",
    "\n",
    "\n",
    "【About Grid Search】\n",
    "Grid Search took a lots of time to search for the optimal hyperparemeter\n",
    "If encounter a larger hyper-set it properly will run hours"
   ]
  },
  {
   "cell_type": "code",
   "execution_count": 28,
   "id": "8b4a588b",
   "metadata": {},
   "outputs": [],
   "source": [
    "import numpy as np\n",
    "import pandas as pd\n",
    "import seaborn as sns\n",
    "import matplotlib.pyplot as plt\n",
    "from matplotlib.pyplot import rcParams\n",
    "import os\n",
    "from sklearn.model_selection import train_test_split\n",
    "from sklearn.model_selection import GridSearchCV,RandomizedSearchCV\n",
    "from sklearn.ensemble import RandomForestClassifier\n",
    "from sklearn.metrics import accuracy_score, f1_score, precision_score, recall_score\n",
    "from sklearn.metrics import confusion_matrix\n",
    "import time"
   ]
  },
  {
   "cell_type": "code",
   "execution_count": 2,
   "id": "dc9120e8",
   "metadata": {},
   "outputs": [],
   "source": [
    "df=pd.read_csv('heart_v2.csv')"
   ]
  },
  {
   "cell_type": "code",
   "execution_count": 3,
   "id": "66f34d90",
   "metadata": {},
   "outputs": [
    {
     "data": {
      "text/html": [
       "<div>\n",
       "<style scoped>\n",
       "    .dataframe tbody tr th:only-of-type {\n",
       "        vertical-align: middle;\n",
       "    }\n",
       "\n",
       "    .dataframe tbody tr th {\n",
       "        vertical-align: top;\n",
       "    }\n",
       "\n",
       "    .dataframe thead th {\n",
       "        text-align: right;\n",
       "    }\n",
       "</style>\n",
       "<table border=\"1\" class=\"dataframe\">\n",
       "  <thead>\n",
       "    <tr style=\"text-align: right;\">\n",
       "      <th></th>\n",
       "      <th>age</th>\n",
       "      <th>sex</th>\n",
       "      <th>BP</th>\n",
       "      <th>cholestrol</th>\n",
       "      <th>heart disease</th>\n",
       "    </tr>\n",
       "  </thead>\n",
       "  <tbody>\n",
       "    <tr>\n",
       "      <th>0</th>\n",
       "      <td>70</td>\n",
       "      <td>1</td>\n",
       "      <td>130</td>\n",
       "      <td>322</td>\n",
       "      <td>1</td>\n",
       "    </tr>\n",
       "    <tr>\n",
       "      <th>1</th>\n",
       "      <td>67</td>\n",
       "      <td>0</td>\n",
       "      <td>115</td>\n",
       "      <td>564</td>\n",
       "      <td>0</td>\n",
       "    </tr>\n",
       "    <tr>\n",
       "      <th>2</th>\n",
       "      <td>57</td>\n",
       "      <td>1</td>\n",
       "      <td>124</td>\n",
       "      <td>261</td>\n",
       "      <td>1</td>\n",
       "    </tr>\n",
       "    <tr>\n",
       "      <th>3</th>\n",
       "      <td>64</td>\n",
       "      <td>1</td>\n",
       "      <td>128</td>\n",
       "      <td>263</td>\n",
       "      <td>0</td>\n",
       "    </tr>\n",
       "    <tr>\n",
       "      <th>4</th>\n",
       "      <td>74</td>\n",
       "      <td>0</td>\n",
       "      <td>120</td>\n",
       "      <td>269</td>\n",
       "      <td>0</td>\n",
       "    </tr>\n",
       "    <tr>\n",
       "      <th>...</th>\n",
       "      <td>...</td>\n",
       "      <td>...</td>\n",
       "      <td>...</td>\n",
       "      <td>...</td>\n",
       "      <td>...</td>\n",
       "    </tr>\n",
       "    <tr>\n",
       "      <th>265</th>\n",
       "      <td>52</td>\n",
       "      <td>1</td>\n",
       "      <td>172</td>\n",
       "      <td>199</td>\n",
       "      <td>0</td>\n",
       "    </tr>\n",
       "    <tr>\n",
       "      <th>266</th>\n",
       "      <td>44</td>\n",
       "      <td>1</td>\n",
       "      <td>120</td>\n",
       "      <td>263</td>\n",
       "      <td>0</td>\n",
       "    </tr>\n",
       "    <tr>\n",
       "      <th>267</th>\n",
       "      <td>56</td>\n",
       "      <td>0</td>\n",
       "      <td>140</td>\n",
       "      <td>294</td>\n",
       "      <td>0</td>\n",
       "    </tr>\n",
       "    <tr>\n",
       "      <th>268</th>\n",
       "      <td>57</td>\n",
       "      <td>1</td>\n",
       "      <td>140</td>\n",
       "      <td>192</td>\n",
       "      <td>0</td>\n",
       "    </tr>\n",
       "    <tr>\n",
       "      <th>269</th>\n",
       "      <td>67</td>\n",
       "      <td>1</td>\n",
       "      <td>160</td>\n",
       "      <td>286</td>\n",
       "      <td>1</td>\n",
       "    </tr>\n",
       "  </tbody>\n",
       "</table>\n",
       "<p>270 rows × 5 columns</p>\n",
       "</div>"
      ],
      "text/plain": [
       "     age  sex   BP  cholestrol  heart disease\n",
       "0     70    1  130         322              1\n",
       "1     67    0  115         564              0\n",
       "2     57    1  124         261              1\n",
       "3     64    1  128         263              0\n",
       "4     74    0  120         269              0\n",
       "..   ...  ...  ...         ...            ...\n",
       "265   52    1  172         199              0\n",
       "266   44    1  120         263              0\n",
       "267   56    0  140         294              0\n",
       "268   57    1  140         192              0\n",
       "269   67    1  160         286              1\n",
       "\n",
       "[270 rows x 5 columns]"
      ]
     },
     "execution_count": 3,
     "metadata": {},
     "output_type": "execute_result"
    }
   ],
   "source": [
    "df"
   ]
  },
  {
   "cell_type": "code",
   "execution_count": 4,
   "id": "ea74de73",
   "metadata": {},
   "outputs": [
    {
     "name": "stdout",
     "output_type": "stream",
     "text": [
      "<class 'pandas.core.frame.DataFrame'>\n",
      "RangeIndex: 270 entries, 0 to 269\n",
      "Data columns (total 5 columns):\n",
      " #   Column         Non-Null Count  Dtype\n",
      "---  ------         --------------  -----\n",
      " 0   age            270 non-null    int64\n",
      " 1   sex            270 non-null    int64\n",
      " 2   BP             270 non-null    int64\n",
      " 3   cholestrol     270 non-null    int64\n",
      " 4   heart disease  270 non-null    int64\n",
      "dtypes: int64(5)\n",
      "memory usage: 10.7 KB\n"
     ]
    }
   ],
   "source": [
    "df.info()"
   ]
  },
  {
   "cell_type": "code",
   "execution_count": 5,
   "id": "6ab3afa5",
   "metadata": {},
   "outputs": [],
   "source": [
    "y=df['heart disease']\n",
    "X= df.drop('heart disease',axis=1)"
   ]
  },
  {
   "cell_type": "code",
   "execution_count": 6,
   "id": "0be475fb",
   "metadata": {},
   "outputs": [
    {
     "data": {
      "text/plain": [
       "0    150\n",
       "1    120\n",
       "Name: heart disease, dtype: int64"
      ]
     },
     "execution_count": 6,
     "metadata": {},
     "output_type": "execute_result"
    }
   ],
   "source": [
    "df['heart disease'].value_counts() #balanced dataset"
   ]
  },
  {
   "cell_type": "code",
   "execution_count": 7,
   "id": "4af8f550",
   "metadata": {},
   "outputs": [
    {
     "name": "stdout",
     "output_type": "stream",
     "text": [
      "(216, 4) (54, 4)\n",
      "(216,) (54,)\n"
     ]
    }
   ],
   "source": [
    "X_train, X_test, y_train, y_test = train_test_split(X, y, train_size=0.8, random_state=42)\n",
    "print(X_train.shape, X_test.shape)\n",
    "print(y_train.shape, y_test.shape)"
   ]
  },
  {
   "cell_type": "markdown",
   "id": "22306db5",
   "metadata": {},
   "source": [
    "# Random Forest"
   ]
  },
  {
   "cell_type": "code",
   "execution_count": 8,
   "id": "fe40c451",
   "metadata": {},
   "outputs": [],
   "source": [
    "rf=RandomForestClassifier(n_estimators=10,n_jobs=-1,max_depth=5,random_state=42,oob_score=True)"
   ]
  },
  {
   "cell_type": "code",
   "execution_count": 9,
   "id": "685178c9",
   "metadata": {},
   "outputs": [
    {
     "data": {
      "text/plain": [
       "RandomForestClassifier(max_depth=5, n_estimators=10, n_jobs=-1, oob_score=True,\n",
       "                       random_state=42)"
      ]
     },
     "execution_count": 9,
     "metadata": {},
     "output_type": "execute_result"
    }
   ],
   "source": [
    "rf.fit(X_train, y_train)"
   ]
  },
  {
   "cell_type": "code",
   "execution_count": 10,
   "id": "a71ed6e8",
   "metadata": {},
   "outputs": [
    {
     "data": {
      "text/plain": [
       "0.6064814814814815"
      ]
     },
     "execution_count": 10,
     "metadata": {},
     "output_type": "execute_result"
    }
   ],
   "source": [
    "rf.oob_score_"
   ]
  },
  {
   "cell_type": "code",
   "execution_count": 11,
   "id": "2218195e",
   "metadata": {},
   "outputs": [],
   "source": [
    "pred=rf.predict(X_test)"
   ]
  },
  {
   "cell_type": "code",
   "execution_count": 12,
   "id": "0961cb09",
   "metadata": {},
   "outputs": [
    {
     "data": {
      "text/plain": [
       "0.6481481481481481"
      ]
     },
     "execution_count": 12,
     "metadata": {},
     "output_type": "execute_result"
    }
   ],
   "source": [
    "accuracy_score(y_test, pred)"
   ]
  },
  {
   "cell_type": "code",
   "execution_count": 13,
   "id": "92cc9b05",
   "metadata": {},
   "outputs": [
    {
     "data": {
      "text/plain": [
       "array([[25,  8],\n",
       "       [11, 10]], dtype=int64)"
      ]
     },
     "execution_count": 13,
     "metadata": {},
     "output_type": "execute_result"
    }
   ],
   "source": [
    "confusion_matrix(y_test, pred)"
   ]
  },
  {
   "cell_type": "code",
   "execution_count": 14,
   "id": "f44298a4",
   "metadata": {},
   "outputs": [
    {
     "data": {
      "image/png": "[encoded data removed]",
      "text/plain": [
       "<Figure size 432x288 with 1 Axes>"
      ]
     },
     "metadata": {
      "needs_background": "light"
     },
     "output_type": "display_data"
    }
   ],
   "source": [
    "from sklearn.metrics import plot_confusion_matrix\n",
    "disp = plot_confusion_matrix(rf, X_test, y_test, colorbar=False)"
   ]
  },
  {
   "cell_type": "markdown",
   "id": "6fa2c828",
   "metadata": {},
   "source": [
    "# Grid Search"
   ]
  },
  {
   "cell_type": "code",
   "execution_count": 37,
   "id": "d2b3fbe3",
   "metadata": {},
   "outputs": [],
   "source": [
    "n_estimators = [10, 100,500,1000]\n",
    "max_depth = [ 2,  5, 10]\n",
    "min_samples_leaf= [5, 10, 20]\n",
    "max_features=[2,3,4]\n",
    "param_grid = dict(n_estimators=n_estimators, max_depth=max_depth,min_samples_leaf=min_samples_leaf,max_features=max_features)"
   ]
  },
  {
   "cell_type": "code",
   "execution_count": 40,
   "id": "26d063e0",
   "metadata": {},
   "outputs": [],
   "source": [
    "newrf = RandomForestClassifier(random_state=42)\n",
    "grid=GridSearchCV(estimator=newrf,param_grid=param_grid,cv=3,n_jobs=-1,verbose=1,scoring='accuracy')"
   ]
  },
  {
   "cell_type": "code",
   "execution_count": 41,
   "id": "8d888719",
   "metadata": {},
   "outputs": [
    {
     "name": "stdout",
     "output_type": "stream",
     "text": [
      "Fitting 3 folds for each of 108 candidates, totalling 324 fits\n",
      "執行時間：98.230928 秒\n"
     ]
    }
   ],
   "source": [
    "start = time.time()\n",
    "\n",
    "grid_result = grid.fit(X_train, y_train)\n",
    "\n",
    "end = time.time()\n",
    "\n",
    "# 輸出結果\n",
    "\n",
    "print(\"執行時間：%f 秒\" % (end - start))"
   ]
  },
  {
   "cell_type": "code",
   "execution_count": 42,
   "id": "9cbe9bc6",
   "metadata": {},
   "outputs": [
    {
     "name": "stdout",
     "output_type": "stream",
     "text": [
      "最佳分類器\n",
      "RandomForestClassifier(max_depth=5, max_features=4, min_samples_leaf=10,\n",
      "                       n_estimators=10, random_state=42)\n",
      "\n",
      "最佳超參數組合\n",
      "{'max_depth': 5, 'max_features': 4, 'min_samples_leaf': 10, 'n_estimators': 10}\n",
      "\n",
      "最佳分類器與超參數組合分類結果\n",
      "0.6851851851851851\n"
     ]
    }
   ],
   "source": [
    "print('最佳分類器')\n",
    "print(grid_result.best_estimator_)\n",
    "print('\\n最佳超參數組合')\n",
    "print(grid_result.best_params_)\n",
    "print('\\n最佳分類器與超參數組合分類結果')\n",
    "print(grid_result.best_score_)"
   ]
  },
  {
   "cell_type": "markdown",
   "id": "df8f6db3",
   "metadata": {},
   "source": [
    "# Optimal RF"
   ]
  },
  {
   "cell_type": "code",
   "execution_count": 43,
   "id": "51451fea",
   "metadata": {},
   "outputs": [],
   "source": [
    "optimalrf = RandomForestClassifier(max_depth=5, max_features=4, min_samples_leaf=10,\n",
    "                       n_estimators=10, random_state=42,oob_score=True)"
   ]
  },
  {
   "cell_type": "code",
   "execution_count": 44,
   "id": "d7afe2a0",
   "metadata": {},
   "outputs": [
    {
     "data": {
      "text/plain": [
       "RandomForestClassifier(max_depth=5, max_features=4, min_samples_leaf=10,\n",
       "                       n_estimators=10, oob_score=True, random_state=42)"
      ]
     },
     "execution_count": 44,
     "metadata": {},
     "output_type": "execute_result"
    }
   ],
   "source": [
    "optimalrf .fit(X_train, y_train)"
   ]
  },
  {
   "cell_type": "code",
   "execution_count": 45,
   "id": "3ea6f0fc",
   "metadata": {},
   "outputs": [
    {
     "data": {
      "text/plain": [
       "0.6203703703703703"
      ]
     },
     "execution_count": 45,
     "metadata": {},
     "output_type": "execute_result"
    }
   ],
   "source": [
    "optimalrf .oob_score_"
   ]
  },
  {
   "cell_type": "code",
   "execution_count": 46,
   "id": "59b3f86b",
   "metadata": {},
   "outputs": [],
   "source": [
    "pred=optimalrf.predict(X_test)"
   ]
  },
  {
   "cell_type": "code",
   "execution_count": 47,
   "id": "34115962",
   "metadata": {},
   "outputs": [
    {
     "data": {
      "text/plain": [
       "0.6481481481481481"
      ]
     },
     "execution_count": 47,
     "metadata": {},
     "output_type": "execute_result"
    }
   ],
   "source": [
    "accuracy_score(y_test, pred)"
   ]
  },
  {
   "cell_type": "code",
   "execution_count": 48,
   "id": "eb0f883f",
   "metadata": {},
   "outputs": [
    {
     "data": {
      "text/plain": [
       "array([[24,  9],\n",
       "       [10, 11]], dtype=int64)"
      ]
     },
     "execution_count": 48,
     "metadata": {},
     "output_type": "execute_result"
    }
   ],
   "source": [
    "confusion_matrix(y_test, pred)"
   ]
  },
  {
   "cell_type": "code",
   "execution_count": 49,
   "id": "669f75be",
   "metadata": {},
   "outputs": [
    {
     "data": {
      "image/png": "[encoded data removed]",
      "text/plain": [
       "<Figure size 432x288 with 1 Axes>"
      ]
     },
     "metadata": {
      "needs_background": "light"
     },
     "output_type": "display_data"
    }
   ],
   "source": [
    "from sklearn.metrics import plot_confusion_matrix\n",
    "disp = plot_confusion_matrix(optimalrf, X_test, y_test, colorbar=False)"
   ]
  },
  {
   "cell_type": "code",
   "execution_count": null,
   "id": "8c1b1c93",
   "metadata": {},
   "outputs": [],
   "source": []
  }
 ],
 "metadata": {
  "kernelspec": {
   "display_name": "Python 3.10.7 64-bit",
   "language": "python",
   "name": "python3"
  },
  "language_info": {
   "codemirror_mode": {
    "name": "ipython",
    "version": 3
   },
   "file_extension": ".py",
   "mimetype": "text/x-python",
   "name": "python",
   "nbconvert_exporter": "python",
   "pygments_lexer": "ipython3",
   "version": "3.10.7"
  },
  "vscode": {
   "interpreter": {
    "hash": "2a8dfe095fce2b5e88c64a2c3ee084c8e0e0d70b23e7b95b1cfb538be294c5c8"
   }
  }
 },
 "nbformat": 4,
 "nbformat_minor": 5
}
