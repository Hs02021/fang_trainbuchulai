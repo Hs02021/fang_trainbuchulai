{
 "cells": [
  {
   "cell_type": "markdown",
   "id": "fe4e9d9c",
   "metadata": {},
   "source": [
    "# 羅吉斯迴歸"
   ]
  },
  {
   "attachments": {
    "image.png": {
     "image/png": "[encoded data removed]"
    }
   },
   "cell_type": "markdown",
   "id": "55974daa",
   "metadata": {},
   "source": [
    "最終結果：\n",
    "\n",
    "train score=0.87\n",
    "\n",
    "test score=0.77\n",
    "\n",
    "![image.png](attachment:image.png)"
   ]
  },
  {
   "cell_type": "markdown",
   "id": "43033207",
   "metadata": {},
   "source": [
    "\n",
    "【Heart Attack Analysis & Prediction Dataset】\n",
    "URL: https://www.kaggle.com/datasets/rashikrahmanpritom/heart-attack-analysis-prediction-dataset?select=heart.csv\n",
    "\n",
    "About this dataset\n",
    "Age : Age of the patient\n",
    "\n",
    "Sex : Sex of the patient\n",
    "\n",
    "exang: exercise induced angina (1 = yes; 0 = no)\n",
    "\n",
    "ca: number of major vessels (0-3)\n",
    "\n",
    "cp : Chest Pain type chest pain type\n",
    "\n",
    "Value 1: typical angina\n",
    "Value 2: atypical angina\n",
    "Value 3: non-anginal pain\n",
    "Value 4: asymptomatic\n",
    "trtbps : resting blood pressure (in mm Hg)\n",
    "\n",
    "chol : cholestoral in mg/dl fetched via BMI sensor\n",
    "\n",
    "fbs : (fasting blood sugar > 120 mg/dl) (1 = true; 0 = false)\n",
    "\n",
    "rest_ecg : resting electrocardiographic results\n",
    "\n",
    "Value 0: normal\n",
    "Value 1: having ST-T wave abnormality (T wave inversions and/or ST elevation or depression of > 0.05 mV)\n",
    "Value 2: showing probable or definite left ventricular hypertrophy by Estes' criteria\n",
    "thalach : maximum heart rate achieved\n",
    "\n",
    "target : 0= less chance of heart attack 1= more chance of heart attack\n",
    "\n",
    "n"
   ]
  },
  {
   "cell_type": "markdown",
   "id": "15823062",
   "metadata": {},
   "source": [
    "# 導入資料"
   ]
  },
  {
   "cell_type": "code",
   "execution_count": 43,
   "id": "9d73598c",
   "metadata": {},
   "outputs": [],
   "source": [
    "import numpy as np\n",
    "import pandas as pd\n",
    "import matplotlib.pyplot as plt\n",
    "from sklearn.linear_model import LogisticRegression\n",
    "from sklearn.metrics import confusion_matrix\n",
    "from sklearn.model_selection import StratifiedShuffleSplit"
   ]
  },
  {
   "cell_type": "code",
   "execution_count": 68,
   "id": "b44d9966",
   "metadata": {},
   "outputs": [],
   "source": [
    "data=pd.read_csv('heart.csv')"
   ]
  },
  {
   "cell_type": "code",
   "execution_count": 69,
   "id": "274dad53",
   "metadata": {},
   "outputs": [
    {
     "data": {
      "text/html": [
       "<div>\n",
       "<style scoped>\n",
       "    .dataframe tbody tr th:only-of-type {\n",
       "        vertical-align: middle;\n",
       "    }\n",
       "\n",
       "    .dataframe tbody tr th {\n",
       "        vertical-align: top;\n",
       "    }\n",
       "\n",
       "    .dataframe thead th {\n",
       "        text-align: right;\n",
       "    }\n",
       "</style>\n",
       "<table border=\"1\" class=\"dataframe\">\n",
       "  <thead>\n",
       "    <tr style=\"text-align: right;\">\n",
       "      <th></th>\n",
       "      <th>age</th>\n",
       "      <th>sex</th>\n",
       "      <th>cp</th>\n",
       "      <th>trtbps</th>\n",
       "      <th>chol</th>\n",
       "      <th>fbs</th>\n",
       "      <th>restecg</th>\n",
       "      <th>thalachh</th>\n",
       "      <th>exng</th>\n",
       "      <th>oldpeak</th>\n",
       "      <th>slp</th>\n",
       "      <th>caa</th>\n",
       "      <th>thall</th>\n",
       "      <th>output</th>\n",
       "    </tr>\n",
       "  </thead>\n",
       "  <tbody>\n",
       "    <tr>\n",
       "      <th>0</th>\n",
       "      <td>63</td>\n",
       "      <td>1</td>\n",
       "      <td>3</td>\n",
       "      <td>145</td>\n",
       "      <td>233</td>\n",
       "      <td>1</td>\n",
       "      <td>0</td>\n",
       "      <td>150</td>\n",
       "      <td>0</td>\n",
       "      <td>2.3</td>\n",
       "      <td>0</td>\n",
       "      <td>0</td>\n",
       "      <td>1</td>\n",
       "      <td>1</td>\n",
       "    </tr>\n",
       "    <tr>\n",
       "      <th>1</th>\n",
       "      <td>37</td>\n",
       "      <td>1</td>\n",
       "      <td>2</td>\n",
       "      <td>130</td>\n",
       "      <td>250</td>\n",
       "      <td>0</td>\n",
       "      <td>1</td>\n",
       "      <td>187</td>\n",
       "      <td>0</td>\n",
       "      <td>3.5</td>\n",
       "      <td>0</td>\n",
       "      <td>0</td>\n",
       "      <td>2</td>\n",
       "      <td>1</td>\n",
       "    </tr>\n",
       "    <tr>\n",
       "      <th>2</th>\n",
       "      <td>41</td>\n",
       "      <td>0</td>\n",
       "      <td>1</td>\n",
       "      <td>130</td>\n",
       "      <td>204</td>\n",
       "      <td>0</td>\n",
       "      <td>0</td>\n",
       "      <td>172</td>\n",
       "      <td>0</td>\n",
       "      <td>1.4</td>\n",
       "      <td>2</td>\n",
       "      <td>0</td>\n",
       "      <td>2</td>\n",
       "      <td>1</td>\n",
       "    </tr>\n",
       "    <tr>\n",
       "      <th>3</th>\n",
       "      <td>56</td>\n",
       "      <td>1</td>\n",
       "      <td>1</td>\n",
       "      <td>120</td>\n",
       "      <td>236</td>\n",
       "      <td>0</td>\n",
       "      <td>1</td>\n",
       "      <td>178</td>\n",
       "      <td>0</td>\n",
       "      <td>0.8</td>\n",
       "      <td>2</td>\n",
       "      <td>0</td>\n",
       "      <td>2</td>\n",
       "      <td>1</td>\n",
       "    </tr>\n",
       "    <tr>\n",
       "      <th>4</th>\n",
       "      <td>57</td>\n",
       "      <td>0</td>\n",
       "      <td>0</td>\n",
       "      <td>120</td>\n",
       "      <td>354</td>\n",
       "      <td>0</td>\n",
       "      <td>1</td>\n",
       "      <td>163</td>\n",
       "      <td>1</td>\n",
       "      <td>0.6</td>\n",
       "      <td>2</td>\n",
       "      <td>0</td>\n",
       "      <td>2</td>\n",
       "      <td>1</td>\n",
       "    </tr>\n",
       "    <tr>\n",
       "      <th>...</th>\n",
       "      <td>...</td>\n",
       "      <td>...</td>\n",
       "      <td>...</td>\n",
       "      <td>...</td>\n",
       "      <td>...</td>\n",
       "      <td>...</td>\n",
       "      <td>...</td>\n",
       "      <td>...</td>\n",
       "      <td>...</td>\n",
       "      <td>...</td>\n",
       "      <td>...</td>\n",
       "      <td>...</td>\n",
       "      <td>...</td>\n",
       "      <td>...</td>\n",
       "    </tr>\n",
       "    <tr>\n",
       "      <th>298</th>\n",
       "      <td>57</td>\n",
       "      <td>0</td>\n",
       "      <td>0</td>\n",
       "      <td>140</td>\n",
       "      <td>241</td>\n",
       "      <td>0</td>\n",
       "      <td>1</td>\n",
       "      <td>123</td>\n",
       "      <td>1</td>\n",
       "      <td>0.2</td>\n",
       "      <td>1</td>\n",
       "      <td>0</td>\n",
       "      <td>3</td>\n",
       "      <td>0</td>\n",
       "    </tr>\n",
       "    <tr>\n",
       "      <th>299</th>\n",
       "      <td>45</td>\n",
       "      <td>1</td>\n",
       "      <td>3</td>\n",
       "      <td>110</td>\n",
       "      <td>264</td>\n",
       "      <td>0</td>\n",
       "      <td>1</td>\n",
       "      <td>132</td>\n",
       "      <td>0</td>\n",
       "      <td>1.2</td>\n",
       "      <td>1</td>\n",
       "      <td>0</td>\n",
       "      <td>3</td>\n",
       "      <td>0</td>\n",
       "    </tr>\n",
       "    <tr>\n",
       "      <th>300</th>\n",
       "      <td>68</td>\n",
       "      <td>1</td>\n",
       "      <td>0</td>\n",
       "      <td>144</td>\n",
       "      <td>193</td>\n",
       "      <td>1</td>\n",
       "      <td>1</td>\n",
       "      <td>141</td>\n",
       "      <td>0</td>\n",
       "      <td>3.4</td>\n",
       "      <td>1</td>\n",
       "      <td>2</td>\n",
       "      <td>3</td>\n",
       "      <td>0</td>\n",
       "    </tr>\n",
       "    <tr>\n",
       "      <th>301</th>\n",
       "      <td>57</td>\n",
       "      <td>1</td>\n",
       "      <td>0</td>\n",
       "      <td>130</td>\n",
       "      <td>131</td>\n",
       "      <td>0</td>\n",
       "      <td>1</td>\n",
       "      <td>115</td>\n",
       "      <td>1</td>\n",
       "      <td>1.2</td>\n",
       "      <td>1</td>\n",
       "      <td>1</td>\n",
       "      <td>3</td>\n",
       "      <td>0</td>\n",
       "    </tr>\n",
       "    <tr>\n",
       "      <th>302</th>\n",
       "      <td>57</td>\n",
       "      <td>0</td>\n",
       "      <td>1</td>\n",
       "      <td>130</td>\n",
       "      <td>236</td>\n",
       "      <td>0</td>\n",
       "      <td>0</td>\n",
       "      <td>174</td>\n",
       "      <td>0</td>\n",
       "      <td>0.0</td>\n",
       "      <td>1</td>\n",
       "      <td>1</td>\n",
       "      <td>2</td>\n",
       "      <td>0</td>\n",
       "    </tr>\n",
       "  </tbody>\n",
       "</table>\n",
       "<p>303 rows × 14 columns</p>\n",
       "</div>"
      ],
      "text/plain": [
       "     age  sex  cp  trtbps  chol  fbs  restecg  thalachh  exng  oldpeak  slp  \\\n",
       "0     63    1   3     145   233    1        0       150     0      2.3    0   \n",
       "1     37    1   2     130   250    0        1       187     0      3.5    0   \n",
       "2     41    0   1     130   204    0        0       172     0      1.4    2   \n",
       "3     56    1   1     120   236    0        1       178     0      0.8    2   \n",
       "4     57    0   0     120   354    0        1       163     1      0.6    2   \n",
       "..   ...  ...  ..     ...   ...  ...      ...       ...   ...      ...  ...   \n",
       "298   57    0   0     140   241    0        1       123     1      0.2    1   \n",
       "299   45    1   3     110   264    0        1       132     0      1.2    1   \n",
       "300   68    1   0     144   193    1        1       141     0      3.4    1   \n",
       "301   57    1   0     130   131    0        1       115     1      1.2    1   \n",
       "302   57    0   1     130   236    0        0       174     0      0.0    1   \n",
       "\n",
       "     caa  thall  output  \n",
       "0      0      1       1  \n",
       "1      0      2       1  \n",
       "2      0      2       1  \n",
       "3      0      2       1  \n",
       "4      0      2       1  \n",
       "..   ...    ...     ...  \n",
       "298    0      3       0  \n",
       "299    0      3       0  \n",
       "300    2      3       0  \n",
       "301    1      3       0  \n",
       "302    1      2       0  \n",
       "\n",
       "[303 rows x 14 columns]"
      ]
     },
     "execution_count": 69,
     "metadata": {},
     "output_type": "execute_result"
    }
   ],
   "source": [
    "data"
   ]
  },
  {
   "cell_type": "markdown",
   "id": "e6bdc1fc",
   "metadata": {},
   "source": [
    "# 以age進行羅吉斯迴歸"
   ]
  },
  {
   "cell_type": "code",
   "execution_count": 46,
   "id": "4bb07855",
   "metadata": {},
   "outputs": [],
   "source": [
    "#使用單一變數預測自變數\n",
    "X=data['age'].values\n",
    "y=data['output'].values"
   ]
  },
  {
   "cell_type": "code",
   "execution_count": 47,
   "id": "87f59fb6",
   "metadata": {},
   "outputs": [
    {
     "data": {
      "text/plain": [
       "(303,)"
      ]
     },
     "execution_count": 47,
     "metadata": {},
     "output_type": "execute_result"
    }
   ],
   "source": [
    "X.shape"
   ]
  },
  {
   "cell_type": "code",
   "execution_count": 48,
   "id": "680968c3",
   "metadata": {},
   "outputs": [],
   "source": [
    "X=X.reshape(-1,1)"
   ]
  },
  {
   "cell_type": "code",
   "execution_count": 49,
   "id": "9afed1a9",
   "metadata": {},
   "outputs": [
    {
     "data": {
      "text/plain": [
       "(303, 1)"
      ]
     },
     "execution_count": 49,
     "metadata": {},
     "output_type": "execute_result"
    }
   ],
   "source": [
    "X.shape"
   ]
  },
  {
   "cell_type": "code",
   "execution_count": 50,
   "id": "337bae93",
   "metadata": {},
   "outputs": [
    {
     "data": {
      "text/plain": [
       "(303,)"
      ]
     },
     "execution_count": 50,
     "metadata": {},
     "output_type": "execute_result"
    }
   ],
   "source": [
    "y.shape"
   ]
  },
  {
   "cell_type": "code",
   "execution_count": 51,
   "id": "fa7c9e6e",
   "metadata": {},
   "outputs": [
    {
     "data": {
      "text/plain": [
       "LogisticRegression()"
      ]
     },
     "execution_count": 51,
     "metadata": {},
     "output_type": "execute_result"
    }
   ],
   "source": [
    "model=linear_model.LogisticRegression()\n",
    "model.fit(X,y)"
   ]
  },
  {
   "cell_type": "code",
   "execution_count": 52,
   "id": "76b1e6f9",
   "metadata": {},
   "outputs": [
    {
     "name": "stdout",
     "output_type": "stream",
     "text": [
      "coef [[-0.05234096]]\n",
      "intercept [3.03564679]\n"
     ]
    }
   ],
   "source": [
    "print('coef', model.coef_)\n",
    "print('intercept',model.intercept_)\n",
    "w1=float(model.coef_)\n",
    "w0=float(model.intercept_)"
   ]
  },
  {
   "cell_type": "code",
   "execution_count": 53,
   "id": "9f83f658",
   "metadata": {},
   "outputs": [],
   "source": [
    "def sigmoid(x,wo,w1):\n",
    "    ln_odds=wo+w1*x\n",
    "    return 1/(1+np.exp(-ln_odds))"
   ]
  },
  {
   "cell_type": "code",
   "execution_count": 54,
   "id": "ad04ed50",
   "metadata": {},
   "outputs": [
    {
     "data": {
      "text/plain": [
       "<matplotlib.lines.Line2D at 0x2978b18d548>"
      ]
     },
     "execution_count": 54,
     "metadata": {},
     "output_type": "execute_result"
    },
    {
     "data": {
      "image/png": "[encoded data removed]",
      "text/plain": [
       "<Figure size 432x288 with 1 Axes>"
      ]
     },
     "metadata": {
      "needs_background": "light"
     },
     "output_type": "display_data"
    }
   ],
   "source": [
    "x=np.arange(0,10,1)\n",
    "s_x=sigmoid(x,w0,w1)\n",
    "plt.plot(x,s_x)\n",
    "plt.axhline(y=0.5, ls='dotted', color='k')"
   ]
  },
  {
   "cell_type": "code",
   "execution_count": 55,
   "id": "5a83c48a",
   "metadata": {},
   "outputs": [
    {
     "data": {
      "text/plain": [
       "array([[0.56508692, 0.43491308],\n",
       "       [0.24992141, 0.75007859],\n",
       "       [0.29117842, 0.70882158],\n",
       "       [0.47388546, 0.52611454],\n",
       "       [0.48694988, 0.51305012],\n",
       "       [0.48694988, 0.51305012],\n",
       "       [0.47388546, 0.52611454],\n",
       "       [0.32461462, 0.67538538],\n",
       "       [0.4221589 , 0.5778411 ],\n",
       "       [0.48694988, 0.51305012],\n",
       "       [0.4478812 , 0.5521188 ],\n",
       "       [0.37208536, 0.62791464],\n",
       "       [0.38439378, 0.61560622],\n",
       "       [0.57790384, 0.42209616],\n",
       "       [0.50003215, 0.49996785],\n",
       "       [0.39685204, 0.60314796],\n",
       "       [0.50003215, 0.49996785],\n",
       "       [0.60320953, 0.39679047],\n",
       "       [0.31324634, 0.68675366],\n",
       "       [0.64011864, 0.35988136],\n",
       "       [0.51311438, 0.48688562],\n",
       "       [0.32461462, 0.67538538],\n",
       "       [0.30209811, 0.69790189],\n",
       "       [0.53920721, 0.46079279],\n",
       "       [0.2804948 , 0.7195052 ],\n",
       "       [0.6638639 , 0.3361361 ],\n",
       "       [0.51311438, 0.48688562],\n",
       "       [0.40944551, 0.59055449],\n",
       "       [0.59061668, 0.40938332],\n",
       "       [0.43497629, 0.56502371],\n",
       "       [0.29117842, 0.70882158],\n",
       "       [0.59061668, 0.40938332],\n",
       "       [0.32461462, 0.67538538],\n",
       "       [0.4478812 , 0.5521188 ],\n",
       "       [0.40944551, 0.59055449],\n",
       "       [0.3479726 , 0.6520274 ],\n",
       "       [0.4478812 , 0.5521188 ],\n",
       "       [0.4478812 , 0.5521188 ],\n",
       "       [0.59061668, 0.40938332],\n",
       "       [0.59061668, 0.40938332],\n",
       "       [0.40944551, 0.59055449],\n",
       "       [0.37208536, 0.62791464],\n",
       "       [0.3361935 , 0.6638065 ],\n",
       "       [0.43497629, 0.56502371],\n",
       "       [0.27005382, 0.72994618],\n",
       "       [0.4221589 , 0.5778411 ],\n",
       "       [0.32461462, 0.67538538],\n",
       "       [0.35994061, 0.64005939],\n",
       "       [0.43497629, 0.56502371],\n",
       "       [0.43497629, 0.56502371],\n",
       "       [0.40944551, 0.59055449],\n",
       "       [0.60320953, 0.39679047],\n",
       "       [0.5521824 , 0.4478176 ],\n",
       "       [0.32461462, 0.67538538],\n",
       "       [0.56508692, 0.43491308],\n",
       "       [0.4221589 , 0.5778411 ],\n",
       "       [0.37208536, 0.62791464],\n",
       "       [0.3361935 , 0.6638065 ],\n",
       "       [0.22165387, 0.77834613],\n",
       "       [0.48694988, 0.51305012],\n",
       "       [0.6638639 , 0.3361361 ],\n",
       "       [0.4478812 , 0.5521188 ],\n",
       "       [0.4221589 , 0.5778411 ],\n",
       "       [0.29117842, 0.70882158],\n",
       "       [0.50003215, 0.49996785],\n",
       "       [0.23081529, 0.76918471],\n",
       "       [0.40944551, 0.59055449],\n",
       "       [0.3361935 , 0.6638065 ],\n",
       "       [0.32461462, 0.67538538],\n",
       "       [0.5521824 , 0.4478176 ],\n",
       "       [0.4478812 , 0.5521188 ],\n",
       "       [0.40944551, 0.59055449],\n",
       "       [0.17979174, 0.82020826],\n",
       "       [0.40944551, 0.59055449],\n",
       "       [0.31324634, 0.68675366],\n",
       "       [0.4608567 , 0.5391433 ],\n",
       "       [0.40944551, 0.59055449],\n",
       "       [0.51311438, 0.48688562],\n",
       "       [0.4221589 , 0.5778411 ],\n",
       "       [0.50003215, 0.49996785],\n",
       "       [0.29117842, 0.70882158],\n",
       "       [0.3361935 , 0.6638065 ],\n",
       "       [0.52617867, 0.47382133],\n",
       "       [0.4221589 , 0.5778411 ],\n",
       "       [0.30209811, 0.69790189],\n",
       "       [0.61566708, 0.38433292],\n",
       "       [0.62797473, 0.37202527],\n",
       "       [0.3479726 , 0.6520274 ],\n",
       "       [0.4478812 , 0.5521188 ],\n",
       "       [0.50003215, 0.49996785],\n",
       "       [0.37208536, 0.62791464],\n",
       "       [0.48694988, 0.51305012],\n",
       "       [0.4221589 , 0.5778411 ],\n",
       "       [0.4478812 , 0.5521188 ],\n",
       "       [0.3361935 , 0.6638065 ],\n",
       "       [0.43497629, 0.56502371],\n",
       "       [0.5521824 , 0.4478176 ],\n",
       "       [0.4221589 , 0.5778411 ],\n",
       "       [0.31324634, 0.68675366],\n",
       "       [0.43497629, 0.56502371],\n",
       "       [0.30209811, 0.69790189],\n",
       "       [0.51311438, 0.48688562],\n",
       "       [0.56508692, 0.43491308],\n",
       "       [0.30209811, 0.69790189],\n",
       "       [0.39685204, 0.60314796],\n",
       "       [0.62797473, 0.37202527],\n",
       "       [0.64011864, 0.35988136],\n",
       "       [0.3361935 , 0.6638065 ],\n",
       "       [0.39685204, 0.60314796],\n",
       "       [0.39685204, 0.60314796],\n",
       "       [0.57790384, 0.42209616],\n",
       "       [0.48694988, 0.51305012],\n",
       "       [0.57790384, 0.42209616],\n",
       "       [0.31324634, 0.68675366],\n",
       "       [0.4608567 , 0.5391433 ],\n",
       "       [0.24992141, 0.75007859],\n",
       "       [0.29117842, 0.70882158],\n",
       "       [0.47388546, 0.52611454],\n",
       "       [0.3479726 , 0.6520274 ],\n",
       "       [0.3479726 , 0.6520274 ],\n",
       "       [0.57790384, 0.42209616],\n",
       "       [0.51311438, 0.48688562],\n",
       "       [0.29117842, 0.70882158],\n",
       "       [0.4478812 , 0.5521188 ],\n",
       "       [0.27005382, 0.72994618],\n",
       "       [0.22165387, 0.77834613],\n",
       "       [0.35994061, 0.64005939],\n",
       "       [0.61566708, 0.38433292],\n",
       "       [0.4221589 , 0.5778411 ],\n",
       "       [0.69795611, 0.30204389],\n",
       "       [0.4478812 , 0.5521188 ],\n",
       "       [0.38439378, 0.61560622],\n",
       "       [0.30209811, 0.69790189],\n",
       "       [0.29117842, 0.70882158],\n",
       "       [0.29117842, 0.70882158],\n",
       "       [0.38439378, 0.61560622],\n",
       "       [0.52617867, 0.47382133],\n",
       "       [0.5521824 , 0.4478176 ],\n",
       "       [0.48694988, 0.51305012],\n",
       "       [0.57790384, 0.42209616],\n",
       "       [0.40944551, 0.59055449],\n",
       "       [0.31324634, 0.68675366],\n",
       "       [0.30209811, 0.69790189],\n",
       "       [0.61566708, 0.38433292],\n",
       "       [0.71955711, 0.28044289],\n",
       "       [0.65208576, 0.34791424],\n",
       "       [0.32461462, 0.67538538],\n",
       "       [0.52617867, 0.47382133],\n",
       "       [0.32461462, 0.67538538],\n",
       "       [0.30209811, 0.69790189],\n",
       "       [0.60320953, 0.39679047],\n",
       "       [0.6638639 , 0.3361361 ],\n",
       "       [0.57790384, 0.42209616],\n",
       "       [0.60320953, 0.39679047],\n",
       "       [0.27005382, 0.72994618],\n",
       "       [0.50003215, 0.49996785],\n",
       "       [0.35994061, 0.64005939],\n",
       "       [0.23081529, 0.76918471],\n",
       "       [0.50003215, 0.49996785],\n",
       "       [0.47388546, 0.52611454],\n",
       "       [0.47388546, 0.52611454],\n",
       "       [0.4608567 , 0.5391433 ],\n",
       "       [0.29117842, 0.70882158],\n",
       "       [0.25986112, 0.74013888],\n",
       "       [0.25986112, 0.74013888],\n",
       "       [0.61566708, 0.38433292],\n",
       "       [0.61566708, 0.38433292],\n",
       "       [0.5521824 , 0.4478176 ],\n",
       "       [0.56508692, 0.43491308],\n",
       "       [0.43497629, 0.56502371],\n",
       "       [0.47388546, 0.52611454],\n",
       "       [0.37208536, 0.62791464],\n",
       "       [0.50003215, 0.49996785],\n",
       "       [0.50003215, 0.49996785],\n",
       "       [0.52617867, 0.47382133],\n",
       "       [0.2804948 , 0.7195052 ],\n",
       "       [0.52617867, 0.47382133],\n",
       "       [0.57790384, 0.42209616],\n",
       "       [0.31324634, 0.68675366],\n",
       "       [0.48694988, 0.51305012],\n",
       "       [0.4608567 , 0.5391433 ],\n",
       "       [0.59061668, 0.40938332],\n",
       "       [0.53920721, 0.46079279],\n",
       "       [0.50003215, 0.49996785],\n",
       "       [0.39685204, 0.60314796],\n",
       "       [0.32461462, 0.67538538],\n",
       "       [0.52617867, 0.47382133],\n",
       "       [0.4478812 , 0.5521188 ],\n",
       "       [0.39685204, 0.60314796],\n",
       "       [0.29117842, 0.70882158],\n",
       "       [0.40944551, 0.59055449],\n",
       "       [0.50003215, 0.49996785],\n",
       "       [0.4478812 , 0.5521188 ],\n",
       "       [0.52617867, 0.47382133],\n",
       "       [0.52617867, 0.47382133],\n",
       "       [0.51311438, 0.48688562],\n",
       "       [0.3479726 , 0.6520274 ],\n",
       "       [0.61566708, 0.38433292],\n",
       "       [0.5521824 , 0.4478176 ],\n",
       "       [0.59061668, 0.40938332],\n",
       "       [0.32461462, 0.67538538],\n",
       "       [0.52617867, 0.47382133],\n",
       "       [0.50003215, 0.49996785],\n",
       "       [0.62797473, 0.37202527],\n",
       "       [0.5521824 , 0.4478176 ],\n",
       "       [0.4221589 , 0.5778411 ],\n",
       "       [0.51311438, 0.48688562],\n",
       "       [0.52617867, 0.47382133],\n",
       "       [0.38439378, 0.61560622],\n",
       "       [0.51311438, 0.48688562],\n",
       "       [0.48694988, 0.51305012],\n",
       "       [0.53920721, 0.46079279],\n",
       "       [0.27005382, 0.72994618],\n",
       "       [0.53920721, 0.46079279],\n",
       "       [0.47388546, 0.52611454],\n",
       "       [0.31324634, 0.68675366],\n",
       "       [0.5521824 , 0.4478176 ],\n",
       "       [0.56508692, 0.43491308],\n",
       "       [0.59061668, 0.40938332],\n",
       "       [0.37208536, 0.62791464],\n",
       "       [0.56508692, 0.43491308],\n",
       "       [0.4608567 , 0.5391433 ],\n",
       "       [0.59061668, 0.40938332],\n",
       "       [0.47388546, 0.52611454],\n",
       "       [0.4478812 , 0.5521188 ],\n",
       "       [0.65208576, 0.34791424],\n",
       "       [0.5521824 , 0.4478176 ],\n",
       "       [0.23081529, 0.76918471],\n",
       "       [0.51311438, 0.48688562],\n",
       "       [0.57790384, 0.42209616],\n",
       "       [0.35994061, 0.64005939],\n",
       "       [0.48694988, 0.51305012],\n",
       "       [0.4608567 , 0.5391433 ],\n",
       "       [0.57790384, 0.42209616],\n",
       "       [0.65208576, 0.34791424],\n",
       "       [0.40944551, 0.59055449],\n",
       "       [0.50003215, 0.49996785],\n",
       "       [0.52617867, 0.47382133],\n",
       "       [0.72999688, 0.27000312],\n",
       "       [0.23081529, 0.76918471],\n",
       "       [0.65208576, 0.34791424],\n",
       "       [0.51311438, 0.48688562],\n",
       "       [0.57790384, 0.42209616],\n",
       "       [0.48694988, 0.51305012],\n",
       "       [0.47388546, 0.52611454],\n",
       "       [0.37208536, 0.62791464],\n",
       "       [0.47388546, 0.52611454],\n",
       "       [0.60320953, 0.39679047],\n",
       "       [0.4478812 , 0.5521188 ],\n",
       "       [0.64011864, 0.35988136],\n",
       "       [0.40944551, 0.59055449],\n",
       "       [0.31324634, 0.68675366],\n",
       "       [0.5521824 , 0.4478176 ],\n",
       "       [0.61566708, 0.38433292],\n",
       "       [0.51311438, 0.48688562],\n",
       "       [0.3361935 , 0.6638065 ],\n",
       "       [0.50003215, 0.49996785],\n",
       "       [0.39685204, 0.60314796],\n",
       "       [0.5521824 , 0.4478176 ],\n",
       "       [0.25986112, 0.74013888],\n",
       "       [0.60320953, 0.39679047],\n",
       "       [0.4221589 , 0.5778411 ],\n",
       "       [0.43497629, 0.56502371],\n",
       "       [0.56508692, 0.43491308],\n",
       "       [0.4478812 , 0.5521188 ],\n",
       "       [0.60320953, 0.39679047],\n",
       "       [0.4608567 , 0.5391433 ],\n",
       "       [0.38439378, 0.61560622],\n",
       "       [0.4478812 , 0.5521188 ],\n",
       "       [0.47388546, 0.52611454],\n",
       "       [0.3479726 , 0.6520274 ],\n",
       "       [0.53920721, 0.46079279],\n",
       "       [0.61566708, 0.38433292],\n",
       "       [0.50003215, 0.49996785],\n",
       "       [0.35994061, 0.64005939],\n",
       "       [0.4221589 , 0.5778411 ],\n",
       "       [0.50003215, 0.49996785],\n",
       "       [0.48694988, 0.51305012],\n",
       "       [0.50003215, 0.49996785],\n",
       "       [0.53920721, 0.46079279],\n",
       "       [0.30209811, 0.69790189],\n",
       "       [0.4221589 , 0.5778411 ],\n",
       "       [0.51311438, 0.48688562],\n",
       "       [0.2804948 , 0.7195052 ],\n",
       "       [0.53920721, 0.46079279],\n",
       "       [0.3479726 , 0.6520274 ],\n",
       "       [0.51311438, 0.48688562],\n",
       "       [0.48694988, 0.51305012],\n",
       "       [0.48694988, 0.51305012],\n",
       "       [0.4608567 , 0.5391433 ],\n",
       "       [0.53920721, 0.46079279],\n",
       "       [0.50003215, 0.49996785],\n",
       "       [0.50003215, 0.49996785],\n",
       "       [0.61566708, 0.38433292],\n",
       "       [0.32461462, 0.67538538],\n",
       "       [0.56508692, 0.43491308],\n",
       "       [0.56508692, 0.43491308],\n",
       "       [0.51311438, 0.48688562],\n",
       "       [0.48694988, 0.51305012],\n",
       "       [0.3361935 , 0.6638065 ],\n",
       "       [0.62797473, 0.37202527],\n",
       "       [0.48694988, 0.51305012],\n",
       "       [0.48694988, 0.51305012]])"
      ]
     },
     "execution_count": 55,
     "metadata": {},
     "output_type": "execute_result"
    }
   ],
   "source": [
    "model.predict_proba(X)"
   ]
  },
  {
   "cell_type": "code",
   "execution_count": 56,
   "id": "8280da38",
   "metadata": {
    "scrolled": true
   },
   "outputs": [
    {
     "data": {
      "text/plain": [
       "0.6204620462046204"
      ]
     },
     "execution_count": 56,
     "metadata": {},
     "output_type": "execute_result"
    }
   ],
   "source": [
    "model.score(X,y) #以age預測output成果不準確"
   ]
  },
  {
   "cell_type": "markdown",
   "id": "2e8820d1",
   "metadata": {},
   "source": [
    "# 以cp(胸腔疼痛程度)進行羅吉斯迴歸"
   ]
  },
  {
   "cell_type": "code",
   "execution_count": 57,
   "id": "b8154a4e",
   "metadata": {},
   "outputs": [],
   "source": [
    "#使用單一變數預測自變數\n",
    "X_cp=data['cp'].values\n",
    "y=data['output'].values\n"
   ]
  },
  {
   "cell_type": "code",
   "execution_count": 58,
   "id": "f74c7e3c",
   "metadata": {},
   "outputs": [],
   "source": [
    "X_cp=X_cp.reshape(-1,1)"
   ]
  },
  {
   "cell_type": "code",
   "execution_count": 59,
   "id": "8c6f33bb",
   "metadata": {},
   "outputs": [
    {
     "data": {
      "text/plain": [
       "LogisticRegression()"
      ]
     },
     "execution_count": 59,
     "metadata": {},
     "output_type": "execute_result"
    }
   ],
   "source": [
    "model=linear_model.LogisticRegression()\n",
    "model.fit(X_cp,y)"
   ]
  },
  {
   "cell_type": "code",
   "execution_count": 60,
   "id": "dbd8a653",
   "metadata": {},
   "outputs": [
    {
     "name": "stdout",
     "output_type": "stream",
     "text": [
      "coef [[0.96547181]]\n",
      "intercept [-0.68013802]\n"
     ]
    }
   ],
   "source": [
    "print('coef', model.coef_)\n",
    "print('intercept',model.intercept_)\n",
    "w1=float(model.coef_)\n",
    "w0=float(model.intercept_)"
   ]
  },
  {
   "cell_type": "code",
   "execution_count": 61,
   "id": "2e82358a",
   "metadata": {},
   "outputs": [
    {
     "data": {
      "text/plain": [
       "<matplotlib.lines.Line2D at 0x2978b22d888>"
      ]
     },
     "execution_count": 61,
     "metadata": {},
     "output_type": "execute_result"
    },
    {
     "data": {
      "image/png": "[encoded data removed]",
      "text/plain": [
       "<Figure size 432x288 with 1 Axes>"
      ]
     },
     "metadata": {
      "needs_background": "light"
     },
     "output_type": "display_data"
    }
   ],
   "source": [
    "x=np.arange(0,10,1)\n",
    "s_x=sigmoid(x,w0,w1)\n",
    "plt.plot(x,s_x)\n",
    "plt.axhline(y=0.5, ls='dotted', color='k')"
   ]
  },
  {
   "cell_type": "code",
   "execution_count": 62,
   "id": "1efefad1",
   "metadata": {},
   "outputs": [
    {
     "data": {
      "text/plain": [
       "array([[0.09829826, 0.90170174],\n",
       "       [0.22256072, 0.77743928],\n",
       "       [0.42914661, 0.57085339],\n",
       "       [0.42914661, 0.57085339],\n",
       "       [0.6637695 , 0.3362305 ],\n",
       "       [0.6637695 , 0.3362305 ],\n",
       "       [0.42914661, 0.57085339],\n",
       "       [0.42914661, 0.57085339],\n",
       "       [0.22256072, 0.77743928],\n",
       "       [0.22256072, 0.77743928],\n",
       "       [0.6637695 , 0.3362305 ],\n",
       "       [0.22256072, 0.77743928],\n",
       "       [0.42914661, 0.57085339],\n",
       "       [0.09829826, 0.90170174],\n",
       "       [0.09829826, 0.90170174],\n",
       "       [0.22256072, 0.77743928],\n",
       "       [0.22256072, 0.77743928],\n",
       "       [0.09829826, 0.90170174],\n",
       "       [0.6637695 , 0.3362305 ],\n",
       "       [0.09829826, 0.90170174],\n",
       "       [0.6637695 , 0.3362305 ],\n",
       "       [0.22256072, 0.77743928],\n",
       "       [0.6637695 , 0.3362305 ],\n",
       "       [0.22256072, 0.77743928],\n",
       "       [0.09829826, 0.90170174],\n",
       "       [0.42914661, 0.57085339],\n",
       "       [0.22256072, 0.77743928],\n",
       "       [0.22256072, 0.77743928],\n",
       "       [0.22256072, 0.77743928],\n",
       "       [0.22256072, 0.77743928],\n",
       "       [0.42914661, 0.57085339],\n",
       "       [0.6637695 , 0.3362305 ],\n",
       "       [0.42914661, 0.57085339],\n",
       "       [0.22256072, 0.77743928],\n",
       "       [0.09829826, 0.90170174],\n",
       "       [0.22256072, 0.77743928],\n",
       "       [0.22256072, 0.77743928],\n",
       "       [0.22256072, 0.77743928],\n",
       "       [0.22256072, 0.77743928],\n",
       "       [0.22256072, 0.77743928],\n",
       "       [0.22256072, 0.77743928],\n",
       "       [0.42914661, 0.57085339],\n",
       "       [0.6637695 , 0.3362305 ],\n",
       "       [0.6637695 , 0.3362305 ],\n",
       "       [0.22256072, 0.77743928],\n",
       "       [0.42914661, 0.57085339],\n",
       "       [0.22256072, 0.77743928],\n",
       "       [0.22256072, 0.77743928],\n",
       "       [0.22256072, 0.77743928],\n",
       "       [0.6637695 , 0.3362305 ],\n",
       "       [0.22256072, 0.77743928],\n",
       "       [0.6637695 , 0.3362305 ],\n",
       "       [0.22256072, 0.77743928],\n",
       "       [0.22256072, 0.77743928],\n",
       "       [0.22256072, 0.77743928],\n",
       "       [0.42914661, 0.57085339],\n",
       "       [0.6637695 , 0.3362305 ],\n",
       "       [0.6637695 , 0.3362305 ],\n",
       "       [0.09829826, 0.90170174],\n",
       "       [0.6637695 , 0.3362305 ],\n",
       "       [0.22256072, 0.77743928],\n",
       "       [0.42914661, 0.57085339],\n",
       "       [0.09829826, 0.90170174],\n",
       "       [0.42914661, 0.57085339],\n",
       "       [0.22256072, 0.77743928],\n",
       "       [0.6637695 , 0.3362305 ],\n",
       "       [0.22256072, 0.77743928],\n",
       "       [0.42914661, 0.57085339],\n",
       "       [0.42914661, 0.57085339],\n",
       "       [0.6637695 , 0.3362305 ],\n",
       "       [0.22256072, 0.77743928],\n",
       "       [0.22256072, 0.77743928],\n",
       "       [0.42914661, 0.57085339],\n",
       "       [0.6637695 , 0.3362305 ],\n",
       "       [0.22256072, 0.77743928],\n",
       "       [0.42914661, 0.57085339],\n",
       "       [0.22256072, 0.77743928],\n",
       "       [0.42914661, 0.57085339],\n",
       "       [0.42914661, 0.57085339],\n",
       "       [0.22256072, 0.77743928],\n",
       "       [0.22256072, 0.77743928],\n",
       "       [0.42914661, 0.57085339],\n",
       "       [0.22256072, 0.77743928],\n",
       "       [0.09829826, 0.90170174],\n",
       "       [0.6637695 , 0.3362305 ],\n",
       "       [0.22256072, 0.77743928],\n",
       "       [0.22256072, 0.77743928],\n",
       "       [0.42914661, 0.57085339],\n",
       "       [0.22256072, 0.77743928],\n",
       "       [0.6637695 , 0.3362305 ],\n",
       "       [0.22256072, 0.77743928],\n",
       "       [0.6637695 , 0.3362305 ],\n",
       "       [0.22256072, 0.77743928],\n",
       "       [0.42914661, 0.57085339],\n",
       "       [0.42914661, 0.57085339],\n",
       "       [0.6637695 , 0.3362305 ],\n",
       "       [0.6637695 , 0.3362305 ],\n",
       "       [0.6637695 , 0.3362305 ],\n",
       "       [0.22256072, 0.77743928],\n",
       "       [0.22256072, 0.77743928],\n",
       "       [0.09829826, 0.90170174],\n",
       "       [0.09829826, 0.90170174],\n",
       "       [0.42914661, 0.57085339],\n",
       "       [0.22256072, 0.77743928],\n",
       "       [0.22256072, 0.77743928],\n",
       "       [0.22256072, 0.77743928],\n",
       "       [0.09829826, 0.90170174],\n",
       "       [0.6637695 , 0.3362305 ],\n",
       "       [0.42914661, 0.57085339],\n",
       "       [0.6637695 , 0.3362305 ],\n",
       "       [0.6637695 , 0.3362305 ],\n",
       "       [0.22256072, 0.77743928],\n",
       "       [0.22256072, 0.77743928],\n",
       "       [0.6637695 , 0.3362305 ],\n",
       "       [0.42914661, 0.57085339],\n",
       "       [0.22256072, 0.77743928],\n",
       "       [0.22256072, 0.77743928],\n",
       "       [0.09829826, 0.90170174],\n",
       "       [0.42914661, 0.57085339],\n",
       "       [0.6637695 , 0.3362305 ],\n",
       "       [0.6637695 , 0.3362305 ],\n",
       "       [0.6637695 , 0.3362305 ],\n",
       "       [0.22256072, 0.77743928],\n",
       "       [0.22256072, 0.77743928],\n",
       "       [0.22256072, 0.77743928],\n",
       "       [0.42914661, 0.57085339],\n",
       "       [0.6637695 , 0.3362305 ],\n",
       "       [0.22256072, 0.77743928],\n",
       "       [0.22256072, 0.77743928],\n",
       "       [0.42914661, 0.57085339],\n",
       "       [0.22256072, 0.77743928],\n",
       "       [0.42914661, 0.57085339],\n",
       "       [0.42914661, 0.57085339],\n",
       "       [0.42914661, 0.57085339],\n",
       "       [0.42914661, 0.57085339],\n",
       "       [0.6637695 , 0.3362305 ],\n",
       "       [0.22256072, 0.77743928],\n",
       "       [0.42914661, 0.57085339],\n",
       "       [0.6637695 , 0.3362305 ],\n",
       "       [0.6637695 , 0.3362305 ],\n",
       "       [0.22256072, 0.77743928],\n",
       "       [0.6637695 , 0.3362305 ],\n",
       "       [0.22256072, 0.77743928],\n",
       "       [0.6637695 , 0.3362305 ],\n",
       "       [0.22256072, 0.77743928],\n",
       "       [0.42914661, 0.57085339],\n",
       "       [0.22256072, 0.77743928],\n",
       "       [0.09829826, 0.90170174],\n",
       "       [0.22256072, 0.77743928],\n",
       "       [0.22256072, 0.77743928],\n",
       "       [0.6637695 , 0.3362305 ],\n",
       "       [0.6637695 , 0.3362305 ],\n",
       "       [0.09829826, 0.90170174],\n",
       "       [0.22256072, 0.77743928],\n",
       "       [0.22256072, 0.77743928],\n",
       "       [0.6637695 , 0.3362305 ],\n",
       "       [0.22256072, 0.77743928],\n",
       "       [0.42914661, 0.57085339],\n",
       "       [0.42914661, 0.57085339],\n",
       "       [0.42914661, 0.57085339],\n",
       "       [0.42914661, 0.57085339],\n",
       "       [0.42914661, 0.57085339],\n",
       "       [0.42914661, 0.57085339],\n",
       "       [0.22256072, 0.77743928],\n",
       "       [0.22256072, 0.77743928],\n",
       "       [0.6637695 , 0.3362305 ],\n",
       "       [0.6637695 , 0.3362305 ],\n",
       "       [0.6637695 , 0.3362305 ],\n",
       "       [0.6637695 , 0.3362305 ],\n",
       "       [0.6637695 , 0.3362305 ],\n",
       "       [0.22256072, 0.77743928],\n",
       "       [0.42914661, 0.57085339],\n",
       "       [0.42914661, 0.57085339],\n",
       "       [0.22256072, 0.77743928],\n",
       "       [0.6637695 , 0.3362305 ],\n",
       "       [0.6637695 , 0.3362305 ],\n",
       "       [0.6637695 , 0.3362305 ],\n",
       "       [0.22256072, 0.77743928],\n",
       "       [0.6637695 , 0.3362305 ],\n",
       "       [0.6637695 , 0.3362305 ],\n",
       "       [0.6637695 , 0.3362305 ],\n",
       "       [0.6637695 , 0.3362305 ],\n",
       "       [0.6637695 , 0.3362305 ],\n",
       "       [0.22256072, 0.77743928],\n",
       "       [0.6637695 , 0.3362305 ],\n",
       "       [0.6637695 , 0.3362305 ],\n",
       "       [0.6637695 , 0.3362305 ],\n",
       "       [0.6637695 , 0.3362305 ],\n",
       "       [0.22256072, 0.77743928],\n",
       "       [0.6637695 , 0.3362305 ],\n",
       "       [0.6637695 , 0.3362305 ],\n",
       "       [0.6637695 , 0.3362305 ],\n",
       "       [0.6637695 , 0.3362305 ],\n",
       "       [0.6637695 , 0.3362305 ],\n",
       "       [0.22256072, 0.77743928],\n",
       "       [0.6637695 , 0.3362305 ],\n",
       "       [0.22256072, 0.77743928],\n",
       "       [0.6637695 , 0.3362305 ],\n",
       "       [0.6637695 , 0.3362305 ],\n",
       "       [0.6637695 , 0.3362305 ],\n",
       "       [0.6637695 , 0.3362305 ],\n",
       "       [0.6637695 , 0.3362305 ],\n",
       "       [0.6637695 , 0.3362305 ],\n",
       "       [0.22256072, 0.77743928],\n",
       "       [0.6637695 , 0.3362305 ],\n",
       "       [0.6637695 , 0.3362305 ],\n",
       "       [0.6637695 , 0.3362305 ],\n",
       "       [0.6637695 , 0.3362305 ],\n",
       "       [0.22256072, 0.77743928],\n",
       "       [0.6637695 , 0.3362305 ],\n",
       "       [0.22256072, 0.77743928],\n",
       "       [0.6637695 , 0.3362305 ],\n",
       "       [0.6637695 , 0.3362305 ],\n",
       "       [0.6637695 , 0.3362305 ],\n",
       "       [0.6637695 , 0.3362305 ],\n",
       "       [0.6637695 , 0.3362305 ],\n",
       "       [0.22256072, 0.77743928],\n",
       "       [0.6637695 , 0.3362305 ],\n",
       "       [0.6637695 , 0.3362305 ],\n",
       "       [0.6637695 , 0.3362305 ],\n",
       "       [0.6637695 , 0.3362305 ],\n",
       "       [0.6637695 , 0.3362305 ],\n",
       "       [0.09829826, 0.90170174],\n",
       "       [0.6637695 , 0.3362305 ],\n",
       "       [0.6637695 , 0.3362305 ],\n",
       "       [0.6637695 , 0.3362305 ],\n",
       "       [0.42914661, 0.57085339],\n",
       "       [0.6637695 , 0.3362305 ],\n",
       "       [0.09829826, 0.90170174],\n",
       "       [0.22256072, 0.77743928],\n",
       "       [0.22256072, 0.77743928],\n",
       "       [0.6637695 , 0.3362305 ],\n",
       "       [0.6637695 , 0.3362305 ],\n",
       "       [0.6637695 , 0.3362305 ],\n",
       "       [0.6637695 , 0.3362305 ],\n",
       "       [0.6637695 , 0.3362305 ],\n",
       "       [0.6637695 , 0.3362305 ],\n",
       "       [0.6637695 , 0.3362305 ],\n",
       "       [0.6637695 , 0.3362305 ],\n",
       "       [0.6637695 , 0.3362305 ],\n",
       "       [0.22256072, 0.77743928],\n",
       "       [0.6637695 , 0.3362305 ],\n",
       "       [0.6637695 , 0.3362305 ],\n",
       "       [0.6637695 , 0.3362305 ],\n",
       "       [0.6637695 , 0.3362305 ],\n",
       "       [0.6637695 , 0.3362305 ],\n",
       "       [0.6637695 , 0.3362305 ],\n",
       "       [0.42914661, 0.57085339],\n",
       "       [0.42914661, 0.57085339],\n",
       "       [0.22256072, 0.77743928],\n",
       "       [0.6637695 , 0.3362305 ],\n",
       "       [0.6637695 , 0.3362305 ],\n",
       "       [0.6637695 , 0.3362305 ],\n",
       "       [0.6637695 , 0.3362305 ],\n",
       "       [0.09829826, 0.90170174],\n",
       "       [0.6637695 , 0.3362305 ],\n",
       "       [0.6637695 , 0.3362305 ],\n",
       "       [0.6637695 , 0.3362305 ],\n",
       "       [0.6637695 , 0.3362305 ],\n",
       "       [0.09829826, 0.90170174],\n",
       "       [0.6637695 , 0.3362305 ],\n",
       "       [0.6637695 , 0.3362305 ],\n",
       "       [0.6637695 , 0.3362305 ],\n",
       "       [0.6637695 , 0.3362305 ],\n",
       "       [0.6637695 , 0.3362305 ],\n",
       "       [0.6637695 , 0.3362305 ],\n",
       "       [0.6637695 , 0.3362305 ],\n",
       "       [0.22256072, 0.77743928],\n",
       "       [0.6637695 , 0.3362305 ],\n",
       "       [0.6637695 , 0.3362305 ],\n",
       "       [0.6637695 , 0.3362305 ],\n",
       "       [0.09829826, 0.90170174],\n",
       "       [0.6637695 , 0.3362305 ],\n",
       "       [0.6637695 , 0.3362305 ],\n",
       "       [0.6637695 , 0.3362305 ],\n",
       "       [0.6637695 , 0.3362305 ],\n",
       "       [0.6637695 , 0.3362305 ],\n",
       "       [0.42914661, 0.57085339],\n",
       "       [0.42914661, 0.57085339],\n",
       "       [0.6637695 , 0.3362305 ],\n",
       "       [0.6637695 , 0.3362305 ],\n",
       "       [0.6637695 , 0.3362305 ],\n",
       "       [0.22256072, 0.77743928],\n",
       "       [0.6637695 , 0.3362305 ],\n",
       "       [0.6637695 , 0.3362305 ],\n",
       "       [0.6637695 , 0.3362305 ],\n",
       "       [0.09829826, 0.90170174],\n",
       "       [0.42914661, 0.57085339],\n",
       "       [0.6637695 , 0.3362305 ],\n",
       "       [0.6637695 , 0.3362305 ],\n",
       "       [0.6637695 , 0.3362305 ],\n",
       "       [0.6637695 , 0.3362305 ],\n",
       "       [0.6637695 , 0.3362305 ],\n",
       "       [0.22256072, 0.77743928],\n",
       "       [0.6637695 , 0.3362305 ],\n",
       "       [0.6637695 , 0.3362305 ],\n",
       "       [0.6637695 , 0.3362305 ],\n",
       "       [0.6637695 , 0.3362305 ],\n",
       "       [0.6637695 , 0.3362305 ],\n",
       "       [0.09829826, 0.90170174],\n",
       "       [0.6637695 , 0.3362305 ],\n",
       "       [0.6637695 , 0.3362305 ],\n",
       "       [0.42914661, 0.57085339]])"
      ]
     },
     "execution_count": 62,
     "metadata": {},
     "output_type": "execute_result"
    }
   ],
   "source": [
    "model.predict_proba(X_cp)"
   ]
  },
  {
   "cell_type": "code",
   "execution_count": 63,
   "id": "36b11fa3",
   "metadata": {},
   "outputs": [
    {
     "data": {
      "text/plain": [
       "0.759075907590759"
      ]
     },
     "execution_count": 63,
     "metadata": {},
     "output_type": "execute_result"
    }
   ],
   "source": [
    "model.score(X_cp,y) #以cp預測output成果稍有提升"
   ]
  },
  {
   "cell_type": "markdown",
   "id": "3880f78c",
   "metadata": {},
   "source": [
    "# 嘗試多元分類"
   ]
  },
  {
   "cell_type": "code",
   "execution_count": 70,
   "id": "04230383",
   "metadata": {},
   "outputs": [],
   "source": [
    "split=StratifiedShuffleSplit(n_splits=1,test_size=0.33,random_state=42)\n",
    "\n",
    "for train_index, test_index in split.split(data, data['output']):\n",
    "    train_set=data.loc[train_index]\n",
    "    test_set=data.loc[test_index]\n"
   ]
  },
  {
   "cell_type": "code",
   "execution_count": 71,
   "id": "467b802c",
   "metadata": {},
   "outputs": [],
   "source": [
    "train_set_y=train_set['output']\n",
    "train_set_X=train_set.drop('output',axis=1)\n",
    "test_set_y=test_set['output']\n",
    "test_set_X=test_set.drop('output',axis=1)"
   ]
  },
  {
   "cell_type": "code",
   "execution_count": 72,
   "id": "07458833",
   "metadata": {},
   "outputs": [],
   "source": [
    "model=linear_model.LogisticRegression()"
   ]
  },
  {
   "cell_type": "code",
   "execution_count": 73,
   "id": "bfc8ec3a",
   "metadata": {},
   "outputs": [
    {
     "name": "stderr",
     "output_type": "stream",
     "text": [
      "C:\\anaconda3\\envs\\tf37\\lib\\site-packages\\sklearn\\linear_model\\_logistic.py:765: ConvergenceWarning: lbfgs failed to converge (status=1):\n",
      "STOP: TOTAL NO. of ITERATIONS REACHED LIMIT.\n",
      "\n",
      "Increase the number of iterations (max_iter) or scale the data as shown in:\n",
      "    https://scikit-learn.org/stable/modules/preprocessing.html\n",
      "Please also refer to the documentation for alternative solver options:\n",
      "    https://scikit-learn.org/stable/modules/linear_model.html#logistic-regression\n",
      "  extra_warning_msg=_LOGISTIC_SOLVER_CONVERGENCE_MSG)\n"
     ]
    },
    {
     "data": {
      "text/plain": [
       "LogisticRegression()"
      ]
     },
     "execution_count": 73,
     "metadata": {},
     "output_type": "execute_result"
    }
   ],
   "source": [
    "model.fit(train_set_X,train_set_y)"
   ]
  },
  {
   "cell_type": "code",
   "execution_count": 75,
   "id": "2338e308",
   "metadata": {},
   "outputs": [
    {
     "data": {
      "text/plain": [
       "array([0, 0, 1, 1, 0, 1, 1, 1, 1, 0, 0, 1, 1, 1, 1, 0, 0, 1, 1, 0, 0, 1,\n",
       "       0, 1, 0, 1, 1, 1, 1, 1, 0, 1, 1, 0, 0, 0, 1, 1, 1, 1, 0, 1, 0, 1,\n",
       "       0, 1, 0, 1, 1, 0, 0, 1, 0, 0, 1, 0, 1, 1, 1, 0, 1, 0, 0, 1, 1, 1,\n",
       "       1, 1, 0, 0, 0, 1, 0, 1, 1, 1, 0, 1, 0, 0, 1, 1, 0, 1, 0, 0, 1, 1,\n",
       "       0, 0, 0, 1, 1, 1, 1, 1, 1, 0, 1, 1], dtype=int64)"
      ]
     },
     "execution_count": 75,
     "metadata": {},
     "output_type": "execute_result"
    }
   ],
   "source": [
    "model.predict(test_set_X)"
   ]
  },
  {
   "cell_type": "code",
   "execution_count": 76,
   "id": "8c15d74d",
   "metadata": {},
   "outputs": [
    {
     "data": {
      "text/plain": [
       "array([[0.93808656, 0.06191344],\n",
       "       [0.95869557, 0.04130443],\n",
       "       [0.06023885, 0.93976115],\n",
       "       [0.0469464 , 0.9530536 ],\n",
       "       [0.93202896, 0.06797104],\n",
       "       [0.36456909, 0.63543091],\n",
       "       [0.01090629, 0.98909371],\n",
       "       [0.09885392, 0.90114608],\n",
       "       [0.04994327, 0.95005673],\n",
       "       [0.65041249, 0.34958751],\n",
       "       [0.96157722, 0.03842278],\n",
       "       [0.11013251, 0.88986749],\n",
       "       [0.02512484, 0.97487516],\n",
       "       [0.02586273, 0.97413727],\n",
       "       [0.12299332, 0.87700668],\n",
       "       [0.97614087, 0.02385913],\n",
       "       [0.53995546, 0.46004454],\n",
       "       [0.01636869, 0.98363131],\n",
       "       [0.04713304, 0.95286696],\n",
       "       [0.92239127, 0.07760873],\n",
       "       [0.82150252, 0.17849748],\n",
       "       [0.03734897, 0.96265103],\n",
       "       [0.90567729, 0.09432271],\n",
       "       [0.19262493, 0.80737507],\n",
       "       [0.98929301, 0.01070699],\n",
       "       [0.03868683, 0.96131317],\n",
       "       [0.05397656, 0.94602344],\n",
       "       [0.06457395, 0.93542605],\n",
       "       [0.08137934, 0.91862066],\n",
       "       [0.32048921, 0.67951079],\n",
       "       [0.99753229, 0.00246771],\n",
       "       [0.11775706, 0.88224294],\n",
       "       [0.28739664, 0.71260336],\n",
       "       [0.79772613, 0.20227387],\n",
       "       [0.93158284, 0.06841716],\n",
       "       [0.87125639, 0.12874361],\n",
       "       [0.30220289, 0.69779711],\n",
       "       [0.35315523, 0.64684477],\n",
       "       [0.27602467, 0.72397533],\n",
       "       [0.01473873, 0.98526127],\n",
       "       [0.94462611, 0.05537389],\n",
       "       [0.23232869, 0.76767131],\n",
       "       [0.68765919, 0.31234081],\n",
       "       [0.41493253, 0.58506747],\n",
       "       [0.96392661, 0.03607339],\n",
       "       [0.09206999, 0.90793001],\n",
       "       [0.98742664, 0.01257336],\n",
       "       [0.01351295, 0.98648705],\n",
       "       [0.20496121, 0.79503879],\n",
       "       [0.82633692, 0.17366308],\n",
       "       [0.63967787, 0.36032213],\n",
       "       [0.19396681, 0.80603319],\n",
       "       [0.99534732, 0.00465268],\n",
       "       [0.58587829, 0.41412171],\n",
       "       [0.30835476, 0.69164524],\n",
       "       [0.96476573, 0.03523427],\n",
       "       [0.47575408, 0.52424592],\n",
       "       [0.01470168, 0.98529832],\n",
       "       [0.00738081, 0.99261919],\n",
       "       [0.74018695, 0.25981305],\n",
       "       [0.00304338, 0.99695662],\n",
       "       [0.96213198, 0.03786802],\n",
       "       [0.91836855, 0.08163145],\n",
       "       [0.22567853, 0.77432147],\n",
       "       [0.16158103, 0.83841897],\n",
       "       [0.43777929, 0.56222071],\n",
       "       [0.1995394 , 0.8004606 ],\n",
       "       [0.3090062 , 0.6909938 ],\n",
       "       [0.51817252, 0.48182748],\n",
       "       [0.99569116, 0.00430884],\n",
       "       [0.9957471 , 0.0042529 ],\n",
       "       [0.07090561, 0.92909439],\n",
       "       [0.90825736, 0.09174264],\n",
       "       [0.21281194, 0.78718806],\n",
       "       [0.1414423 , 0.8585577 ],\n",
       "       [0.05896633, 0.94103367],\n",
       "       [0.90107513, 0.09892487],\n",
       "       [0.12180225, 0.87819775],\n",
       "       [0.97211379, 0.02788621],\n",
       "       [0.99508708, 0.00491292],\n",
       "       [0.05036957, 0.94963043],\n",
       "       [0.26534126, 0.73465874],\n",
       "       [0.93332016, 0.06667984],\n",
       "       [0.14253553, 0.85746447],\n",
       "       [0.92199913, 0.07800087],\n",
       "       [0.97507973, 0.02492027],\n",
       "       [0.40476747, 0.59523253],\n",
       "       [0.10109327, 0.89890673],\n",
       "       [0.98848567, 0.01151433],\n",
       "       [0.99272025, 0.00727975],\n",
       "       [0.92362811, 0.07637189],\n",
       "       [0.01596568, 0.98403432],\n",
       "       [0.35950475, 0.64049525],\n",
       "       [0.07826147, 0.92173853],\n",
       "       [0.30540397, 0.69459603],\n",
       "       [0.02090072, 0.97909928],\n",
       "       [0.2265132 , 0.7734868 ],\n",
       "       [0.99706484, 0.00293516],\n",
       "       [0.36031798, 0.63968202],\n",
       "       [0.28100468, 0.71899532]])"
      ]
     },
     "execution_count": 76,
     "metadata": {},
     "output_type": "execute_result"
    }
   ],
   "source": [
    "model.predict_proba(test_set_X)"
   ]
  },
  {
   "cell_type": "code",
   "execution_count": 77,
   "id": "c67f4867",
   "metadata": {},
   "outputs": [
    {
     "data": {
      "text/plain": [
       "0.8719211822660099"
      ]
     },
     "execution_count": 77,
     "metadata": {},
     "output_type": "execute_result"
    }
   ],
   "source": [
    "model.score(train_set_X,train_set_y)"
   ]
  },
  {
   "cell_type": "code",
   "execution_count": 78,
   "id": "2d05d40b",
   "metadata": {},
   "outputs": [
    {
     "data": {
      "text/plain": [
       "0.77"
      ]
     },
     "execution_count": 78,
     "metadata": {},
     "output_type": "execute_result"
    }
   ],
   "source": [
    "model.score(test_set_X,test_set_y)"
   ]
  },
  {
   "cell_type": "code",
   "execution_count": 80,
   "id": "83f5b255",
   "metadata": {},
   "outputs": [],
   "source": [
    "from sklearn.metrics import classification_report, confusion_matrix\n",
    "import itertools\n",
    "def plot_confusion_matrix(cm, classes,\n",
    "                          normalize=False,\n",
    "                          title='Confusion matrix',\n",
    "                          cmap=plt.cm.Blues):\n",
    "\n",
    "    if normalize:\n",
    "        cm = cm.astype('float') / cm.sum(axis=1)[:, np.newaxis]\n",
    "        print(\"Normalized confusion matrix\")\n",
    "    else:\n",
    "        print('Confusion matrix, without normalization')\n",
    "\n",
    "    print(cm)\n",
    "\n",
    "    plt.imshow(cm, interpolation='nearest', cmap=cmap)\n",
    "    plt.title(title,fontsize=20)\n",
    "    plt.colorbar()\n",
    "    tick_marks = np.arange(len(classes))\n",
    "    plt.xticks(tick_marks, classes, rotation=45,fontsize=15)\n",
    "    plt.yticks(tick_marks, classes,fontsize=15)\n",
    "\n",
    "    fmt = '.2f' if normalize else 'd'\n",
    "    thresh = cm.max() / 2.\n",
    "    for i, j in itertools.product(range(cm.shape[0]), range(cm.shape[1])):\n",
    "        plt.text(j, i, format(cm[i, j], fmt),\n",
    "                 horizontalalignment=\"center\",\n",
    "                 color=\"white\" if cm[i, j] > thresh else \"black\")\n",
    "\n",
    "    #plt.tight_layout()\n",
    "    plt.ylabel('True label',fontsize=15)\n",
    "    plt.xlabel('Predicted label',fontsize=15)"
   ]
  },
  {
   "cell_type": "code",
   "execution_count": 81,
   "id": "028064c0",
   "metadata": {},
   "outputs": [
    {
     "name": "stdout",
     "output_type": "stream",
     "text": [
      "Confusion matrix, without normalization\n",
      "[[45  9]\n",
      " [14 32]]\n"
     ]
    },
    {
     "data": {
      "image/png": "[encoded data removed]",
      "text/plain": [
       "<Figure size 432x288 with 2 Axes>"
      ]
     },
     "metadata": {
      "needs_background": "light"
     },
     "output_type": "display_data"
    }
   ],
   "source": [
    "\n",
    "cnf_matrix_LR = confusion_matrix(test_set_y,model.predict(test_set_X), labels=[1,0])\n",
    "np.set_printoptions(precision=2)\n",
    "\n",
    "\n",
    "# Plot non-normalized confusion matrix\n",
    "plt.figure()\n",
    "plot_confusion_matrix(cnf_matrix_LR, classes=['Heart attack=1','Heart attack=0'],normalize= False,  title='Confusion matrix')"
   ]
  },
  {
   "cell_type": "code",
   "execution_count": null,
   "id": "f927bc08",
   "metadata": {},
   "outputs": [],
   "source": []
  }
 ],
 "metadata": {
  "kernelspec": {
   "display_name": "Python 3.10.7 64-bit",
   "language": "python",
   "name": "python3"
  },
  "language_info": {
   "codemirror_mode": {
    "name": "ipython",
    "version": 3
   },
   "file_extension": ".py",
   "mimetype": "text/x-python",
   "name": "python",
   "nbconvert_exporter": "python",
   "pygments_lexer": "ipython3",
   "version": "3.10.7"
  },
  "vscode": {
   "interpreter": {
    "hash": "2a8dfe095fce2b5e88c64a2c3ee084c8e0e0d70b23e7b95b1cfb538be294c5c8"
   }
  }
 },
 "nbformat": 4,
 "nbformat_minor": 5
}
